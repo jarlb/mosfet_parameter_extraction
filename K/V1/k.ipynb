{
 "cells": [
  {
   "cell_type": "code",
   "execution_count": 13,
   "source": [
    "import ltspice\r\n",
    "import matplotlib.pyplot as plt\r\n",
    "import numpy as np\r\n",
    "import csv"
   ],
   "outputs": [],
   "metadata": {}
  },
  {
   "cell_type": "code",
   "execution_count": 14,
   "source": [
    "path = 'Draft1.raw'\r\n",
    "l = ltspice.Ltspice(path)\r\n",
    "l.parse()\r\n",
    "x_data = l.get_data('V(n001)')\r\n",
    "y_data = []\r\n",
    "gs_data = []\r\n",
    "sqrt_id = []\r\n",
    "time = l.get_time()\r\n",
    "for case in range(l.case_count):\r\n",
    "    time = l.get_time(case)\r\n",
    "    y_data.append(l.get_data('Id(M1)', case))\r\n",
    "    sqrt_id.append(np.sqrt(l.get_data('Id(M1)', case)))\r\n",
    "    gs_data.append(l.get_data('V(n002)', case)[0])\r\n"
   ],
   "outputs": [
    {
     "output_type": "execute_result",
     "data": {
      "text/plain": [
       "<ltspice.ltspice.Ltspice at 0x25e6d8b5d88>"
      ]
     },
     "metadata": {},
     "execution_count": 14
    }
   ],
   "metadata": {}
  },
  {
   "cell_type": "code",
   "execution_count": 15,
   "source": [
    "time = l.get_time()\r\n",
    "\r\n",
    "Id = l.get_data('Id(M1)')\r\n",
    "Vgs = l.get_data('V(n002)')\r\n"
   ],
   "outputs": [],
   "metadata": {}
  },
  {
   "cell_type": "code",
   "execution_count": 16,
   "source": [
    "cut_id = []\r\n",
    "cut_volt = []\r\n",
    "for idx, volt in enumerate(Vgs):\r\n",
    "    if volt > 0.36 and volt < 0.5:\r\n",
    "        cut_id.append(sqrt_id[idx])\r\n",
    "        cut_volt.append(Vgs[idx])\r\n",
    "        \r\n",
    "slope, intercept = np.polyfit(cut_volt, cut_id, 1)\r\n",
    "print(slope, intercept)"
   ],
   "outputs": [
    {
     "output_type": "stream",
     "name": "stdout",
     "text": [
      "0.03809197451264155 -0.008991196912554001\n"
     ]
    }
   ],
   "metadata": {}
  },
  {
   "cell_type": "code",
   "execution_count": 17,
   "source": [
    "k = 2 * np.power(slope, 2)\r\n",
    "print('k = {:.6f} A/v^2 = {:.6f} mA/v^2'.format(k, k * 1000))"
   ],
   "outputs": [
    {
     "output_type": "stream",
     "name": "stdout",
     "text": [
      "k = 0.002902 A/v^2 = 2.901997 mA/v^2\n"
     ]
    }
   ],
   "metadata": {}
  }
 ],
 "metadata": {
  "orig_nbformat": 4,
  "language_info": {
   "name": "python",
   "version": "3.7.11",
   "mimetype": "text/x-python",
   "codemirror_mode": {
    "name": "ipython",
    "version": 3
   },
   "pygments_lexer": "ipython3",
   "nbconvert_exporter": "python",
   "file_extension": ".py"
  },
  "kernelspec": {
   "name": "python3",
   "display_name": "Python 3.7.11 64-bit ('ltspice': conda)"
  },
  "interpreter": {
   "hash": "4bff5c67b746ca97ce58e2a8c3d171324314b94c2f0bf6e894f230d5ed600b95"
  }
 },
 "nbformat": 4,
 "nbformat_minor": 2
}